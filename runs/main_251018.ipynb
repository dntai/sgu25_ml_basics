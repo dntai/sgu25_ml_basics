{
 "cells": [
  {
   "cell_type": "code",
   "execution_count": 4,
   "id": "ef1ba214",
   "metadata": {},
   "outputs": [],
   "source": [
    "from IPython import display"
   ]
  },
  {
   "cell_type": "code",
   "execution_count": 5,
   "id": "c493bbf4",
   "metadata": {},
   "outputs": [],
   "source": [
    "try:\n",
    "    import nbformat\n",
    "except:\n",
    "    !pip install nbformat\n",
    "display.clear_output()"
   ]
  },
  {
   "cell_type": "code",
   "execution_count": 9,
   "id": "8efc37af",
   "metadata": {},
   "outputs": [
    {
     "name": "stdout",
     "output_type": "stream",
     "text": [
      "+ seed: 42\n",
      "+ exp_dir: h:\\My Drive\\DNTAI\\2025\\teaching\\sgu25k2_machine_learning_basic\\ws\\sgu25_titanic\\exps\n",
      "+ exp_name: eda_251028\n",
      "+ data_dir: h:\\My Drive\\DNTAI\\2025\\teaching\\sgu25k2_machine_learning_basic\\ws\\data\\titanic\n",
      "+ verbose: True\n",
      "+ save_dir: h:\\My Drive\\DNTAI\\2025\\teaching\\sgu25k2_machine_learning_basic\\ws\\sgu25_titanic\\exps\\eda_251028\n",
      "---------- information ----------\n",
      "train-col: {'Survived', 'Name', 'Fare', 'Sex', 'PassengerId', 'Cabin', 'Embarked', 'Ticket', 'Pclass', 'SibSp', 'Parch', 'Age'}\n",
      "test-col: {'Fare', 'Name', 'Sex', 'PassengerId', 'Cabin', 'Embarked', 'Ticket', 'Pclass', 'SibSp', 'Parch', 'Age'}\n",
      "Union: {'Fare', 'Name', 'Sex', 'PassengerId', 'Cabin', 'Embarked', 'Ticket', 'Pclass', 'SibSp', 'Parch', 'Age'}\n",
      "Difference: {'Survived'}\n"
     ]
    },
    {
     "data": {
      "application/vnd.microsoft.datawrangler.viewer.v0+json": {
       "columns": [
        {
         "name": "index",
         "rawType": "int64",
         "type": "integer"
        },
        {
         "name": "Sex",
         "rawType": "int64",
         "type": "integer"
        },
        {
         "name": "Age",
         "rawType": "float64",
         "type": "float"
        }
       ],
       "ref": "c80faf87-36a9-40a3-bc6c-18eda0e391bc",
       "rows": [
        [
         "0",
         "1",
         "22.0"
        ],
        [
         "1",
         "0",
         "38.0"
        ],
        [
         "2",
         "0",
         "26.0"
        ],
        [
         "3",
         "0",
         "35.0"
        ],
        [
         "4",
         "1",
         "35.0"
        ],
        [
         "5",
         "1",
         "28.0"
        ],
        [
         "6",
         "1",
         "54.0"
        ],
        [
         "7",
         "1",
         "2.0"
        ],
        [
         "8",
         "0",
         "27.0"
        ],
        [
         "9",
         "0",
         "14.0"
        ],
        [
         "10",
         "0",
         "4.0"
        ],
        [
         "11",
         "0",
         "58.0"
        ],
        [
         "12",
         "1",
         "20.0"
        ],
        [
         "13",
         "1",
         "39.0"
        ],
        [
         "14",
         "0",
         "14.0"
        ],
        [
         "15",
         "0",
         "55.0"
        ],
        [
         "16",
         "1",
         "2.0"
        ],
        [
         "17",
         "1",
         "28.0"
        ],
        [
         "18",
         "0",
         "31.0"
        ],
        [
         "19",
         "0",
         "28.0"
        ],
        [
         "20",
         "1",
         "35.0"
        ],
        [
         "21",
         "1",
         "34.0"
        ],
        [
         "22",
         "0",
         "15.0"
        ],
        [
         "23",
         "1",
         "28.0"
        ],
        [
         "24",
         "0",
         "8.0"
        ],
        [
         "25",
         "0",
         "38.0"
        ],
        [
         "26",
         "1",
         "28.0"
        ],
        [
         "27",
         "1",
         "19.0"
        ],
        [
         "28",
         "0",
         "28.0"
        ],
        [
         "29",
         "1",
         "28.0"
        ],
        [
         "30",
         "1",
         "40.0"
        ],
        [
         "31",
         "0",
         "28.0"
        ],
        [
         "32",
         "0",
         "28.0"
        ],
        [
         "33",
         "1",
         "66.0"
        ],
        [
         "34",
         "1",
         "28.0"
        ],
        [
         "35",
         "1",
         "42.0"
        ],
        [
         "36",
         "1",
         "28.0"
        ],
        [
         "37",
         "1",
         "21.0"
        ],
        [
         "38",
         "0",
         "18.0"
        ],
        [
         "39",
         "0",
         "14.0"
        ],
        [
         "40",
         "0",
         "40.0"
        ],
        [
         "41",
         "0",
         "27.0"
        ],
        [
         "42",
         "1",
         "28.0"
        ],
        [
         "43",
         "0",
         "3.0"
        ],
        [
         "44",
         "0",
         "19.0"
        ],
        [
         "45",
         "1",
         "28.0"
        ],
        [
         "46",
         "1",
         "28.0"
        ],
        [
         "47",
         "0",
         "28.0"
        ],
        [
         "48",
         "1",
         "28.0"
        ],
        [
         "49",
         "0",
         "18.0"
        ]
       ],
       "shape": {
        "columns": 2,
        "rows": 891
       }
      },
      "text/html": [
       "<div>\n",
       "<style scoped>\n",
       "    .dataframe tbody tr th:only-of-type {\n",
       "        vertical-align: middle;\n",
       "    }\n",
       "\n",
       "    .dataframe tbody tr th {\n",
       "        vertical-align: top;\n",
       "    }\n",
       "\n",
       "    .dataframe thead th {\n",
       "        text-align: right;\n",
       "    }\n",
       "</style>\n",
       "<table border=\"1\" class=\"dataframe\">\n",
       "  <thead>\n",
       "    <tr style=\"text-align: right;\">\n",
       "      <th></th>\n",
       "      <th>Sex</th>\n",
       "      <th>Age</th>\n",
       "    </tr>\n",
       "  </thead>\n",
       "  <tbody>\n",
       "    <tr>\n",
       "      <th>0</th>\n",
       "      <td>1</td>\n",
       "      <td>22.0</td>\n",
       "    </tr>\n",
       "    <tr>\n",
       "      <th>1</th>\n",
       "      <td>0</td>\n",
       "      <td>38.0</td>\n",
       "    </tr>\n",
       "    <tr>\n",
       "      <th>2</th>\n",
       "      <td>0</td>\n",
       "      <td>26.0</td>\n",
       "    </tr>\n",
       "    <tr>\n",
       "      <th>3</th>\n",
       "      <td>0</td>\n",
       "      <td>35.0</td>\n",
       "    </tr>\n",
       "    <tr>\n",
       "      <th>4</th>\n",
       "      <td>1</td>\n",
       "      <td>35.0</td>\n",
       "    </tr>\n",
       "    <tr>\n",
       "      <th>...</th>\n",
       "      <td>...</td>\n",
       "      <td>...</td>\n",
       "    </tr>\n",
       "    <tr>\n",
       "      <th>886</th>\n",
       "      <td>1</td>\n",
       "      <td>27.0</td>\n",
       "    </tr>\n",
       "    <tr>\n",
       "      <th>887</th>\n",
       "      <td>0</td>\n",
       "      <td>19.0</td>\n",
       "    </tr>\n",
       "    <tr>\n",
       "      <th>888</th>\n",
       "      <td>0</td>\n",
       "      <td>28.0</td>\n",
       "    </tr>\n",
       "    <tr>\n",
       "      <th>889</th>\n",
       "      <td>1</td>\n",
       "      <td>26.0</td>\n",
       "    </tr>\n",
       "    <tr>\n",
       "      <th>890</th>\n",
       "      <td>1</td>\n",
       "      <td>32.0</td>\n",
       "    </tr>\n",
       "  </tbody>\n",
       "</table>\n",
       "<p>891 rows × 2 columns</p>\n",
       "</div>"
      ],
      "text/plain": [
       "     Sex   Age\n",
       "0      1  22.0\n",
       "1      0  38.0\n",
       "2      0  26.0\n",
       "3      0  35.0\n",
       "4      1  35.0\n",
       "..   ...   ...\n",
       "886    1  27.0\n",
       "887    0  19.0\n",
       "888    0  28.0\n",
       "889    1  26.0\n",
       "890    1  32.0\n",
       "\n",
       "[891 rows x 2 columns]"
      ]
     },
     "metadata": {},
     "output_type": "display_data"
    },
    {
     "name": "stdout",
     "output_type": "stream",
     "text": [
      "head(10)\n"
     ]
    },
    {
     "data": {
      "application/vnd.microsoft.datawrangler.viewer.v0+json": {
       "columns": [
        {
         "name": "index",
         "rawType": "int64",
         "type": "integer"
        },
        {
         "name": "PassengerId",
         "rawType": "int64",
         "type": "integer"
        },
        {
         "name": "Survived",
         "rawType": "int64",
         "type": "integer"
        },
        {
         "name": "Pclass",
         "rawType": "int64",
         "type": "integer"
        },
        {
         "name": "Name",
         "rawType": "object",
         "type": "string"
        },
        {
         "name": "Sex",
         "rawType": "object",
         "type": "string"
        },
        {
         "name": "Age",
         "rawType": "float64",
         "type": "float"
        },
        {
         "name": "SibSp",
         "rawType": "int64",
         "type": "integer"
        },
        {
         "name": "Parch",
         "rawType": "int64",
         "type": "integer"
        },
        {
         "name": "Ticket",
         "rawType": "object",
         "type": "string"
        },
        {
         "name": "Fare",
         "rawType": "float64",
         "type": "float"
        },
        {
         "name": "Cabin",
         "rawType": "object",
         "type": "unknown"
        },
        {
         "name": "Embarked",
         "rawType": "object",
         "type": "string"
        }
       ],
       "ref": "bae4b22f-07f2-4f39-b1d4-ff82f9aa2594",
       "rows": [
        [
         "0",
         "1",
         "0",
         "3",
         "Braund, Mr. Owen Harris",
         "male",
         "22.0",
         "1",
         "0",
         "A/5 21171",
         "7.25",
         null,
         "S"
        ],
        [
         "1",
         "2",
         "1",
         "1",
         "Cumings, Mrs. John Bradley (Florence Briggs Thayer)",
         "female",
         "38.0",
         "1",
         "0",
         "PC 17599",
         "71.2833",
         "C85",
         "C"
        ],
        [
         "2",
         "3",
         "1",
         "3",
         "Heikkinen, Miss. Laina",
         "female",
         "26.0",
         "0",
         "0",
         "STON/O2. 3101282",
         "7.925",
         null,
         "S"
        ],
        [
         "3",
         "4",
         "1",
         "1",
         "Futrelle, Mrs. Jacques Heath (Lily May Peel)",
         "female",
         "35.0",
         "1",
         "0",
         "113803",
         "53.1",
         "C123",
         "S"
        ],
        [
         "4",
         "5",
         "0",
         "3",
         "Allen, Mr. William Henry",
         "male",
         "35.0",
         "0",
         "0",
         "373450",
         "8.05",
         null,
         "S"
        ]
       ],
       "shape": {
        "columns": 12,
        "rows": 5
       }
      },
      "text/html": [
       "<div>\n",
       "<style scoped>\n",
       "    .dataframe tbody tr th:only-of-type {\n",
       "        vertical-align: middle;\n",
       "    }\n",
       "\n",
       "    .dataframe tbody tr th {\n",
       "        vertical-align: top;\n",
       "    }\n",
       "\n",
       "    .dataframe thead th {\n",
       "        text-align: right;\n",
       "    }\n",
       "</style>\n",
       "<table border=\"1\" class=\"dataframe\">\n",
       "  <thead>\n",
       "    <tr style=\"text-align: right;\">\n",
       "      <th></th>\n",
       "      <th>PassengerId</th>\n",
       "      <th>Survived</th>\n",
       "      <th>Pclass</th>\n",
       "      <th>Name</th>\n",
       "      <th>Sex</th>\n",
       "      <th>Age</th>\n",
       "      <th>SibSp</th>\n",
       "      <th>Parch</th>\n",
       "      <th>Ticket</th>\n",
       "      <th>Fare</th>\n",
       "      <th>Cabin</th>\n",
       "      <th>Embarked</th>\n",
       "    </tr>\n",
       "  </thead>\n",
       "  <tbody>\n",
       "    <tr>\n",
       "      <th>0</th>\n",
       "      <td>1</td>\n",
       "      <td>0</td>\n",
       "      <td>3</td>\n",
       "      <td>Braund, Mr. Owen Harris</td>\n",
       "      <td>male</td>\n",
       "      <td>22.0</td>\n",
       "      <td>1</td>\n",
       "      <td>0</td>\n",
       "      <td>A/5 21171</td>\n",
       "      <td>7.2500</td>\n",
       "      <td>NaN</td>\n",
       "      <td>S</td>\n",
       "    </tr>\n",
       "    <tr>\n",
       "      <th>1</th>\n",
       "      <td>2</td>\n",
       "      <td>1</td>\n",
       "      <td>1</td>\n",
       "      <td>Cumings, Mrs. John Bradley (Florence Briggs Th...</td>\n",
       "      <td>female</td>\n",
       "      <td>38.0</td>\n",
       "      <td>1</td>\n",
       "      <td>0</td>\n",
       "      <td>PC 17599</td>\n",
       "      <td>71.2833</td>\n",
       "      <td>C85</td>\n",
       "      <td>C</td>\n",
       "    </tr>\n",
       "    <tr>\n",
       "      <th>2</th>\n",
       "      <td>3</td>\n",
       "      <td>1</td>\n",
       "      <td>3</td>\n",
       "      <td>Heikkinen, Miss. Laina</td>\n",
       "      <td>female</td>\n",
       "      <td>26.0</td>\n",
       "      <td>0</td>\n",
       "      <td>0</td>\n",
       "      <td>STON/O2. 3101282</td>\n",
       "      <td>7.9250</td>\n",
       "      <td>NaN</td>\n",
       "      <td>S</td>\n",
       "    </tr>\n",
       "    <tr>\n",
       "      <th>3</th>\n",
       "      <td>4</td>\n",
       "      <td>1</td>\n",
       "      <td>1</td>\n",
       "      <td>Futrelle, Mrs. Jacques Heath (Lily May Peel)</td>\n",
       "      <td>female</td>\n",
       "      <td>35.0</td>\n",
       "      <td>1</td>\n",
       "      <td>0</td>\n",
       "      <td>113803</td>\n",
       "      <td>53.1000</td>\n",
       "      <td>C123</td>\n",
       "      <td>S</td>\n",
       "    </tr>\n",
       "    <tr>\n",
       "      <th>4</th>\n",
       "      <td>5</td>\n",
       "      <td>0</td>\n",
       "      <td>3</td>\n",
       "      <td>Allen, Mr. William Henry</td>\n",
       "      <td>male</td>\n",
       "      <td>35.0</td>\n",
       "      <td>0</td>\n",
       "      <td>0</td>\n",
       "      <td>373450</td>\n",
       "      <td>8.0500</td>\n",
       "      <td>NaN</td>\n",
       "      <td>S</td>\n",
       "    </tr>\n",
       "  </tbody>\n",
       "</table>\n",
       "</div>"
      ],
      "text/plain": [
       "   PassengerId  Survived  Pclass  \\\n",
       "0            1         0       3   \n",
       "1            2         1       1   \n",
       "2            3         1       3   \n",
       "3            4         1       1   \n",
       "4            5         0       3   \n",
       "\n",
       "                                                Name     Sex   Age  SibSp  \\\n",
       "0                            Braund, Mr. Owen Harris    male  22.0      1   \n",
       "1  Cumings, Mrs. John Bradley (Florence Briggs Th...  female  38.0      1   \n",
       "2                             Heikkinen, Miss. Laina  female  26.0      0   \n",
       "3       Futrelle, Mrs. Jacques Heath (Lily May Peel)  female  35.0      1   \n",
       "4                           Allen, Mr. William Henry    male  35.0      0   \n",
       "\n",
       "   Parch            Ticket     Fare Cabin Embarked  \n",
       "0      0         A/5 21171   7.2500   NaN        S  \n",
       "1      0          PC 17599  71.2833   C85        C  \n",
       "2      0  STON/O2. 3101282   7.9250   NaN        S  \n",
       "3      0            113803  53.1000  C123        S  \n",
       "4      0            373450   8.0500   NaN        S  "
      ]
     },
     "metadata": {},
     "output_type": "display_data"
    },
    {
     "name": "stdout",
     "output_type": "stream",
     "text": [
      "tail(10)\n",
      "isna\n"
     ]
    },
    {
     "data": {
      "application/vnd.microsoft.datawrangler.viewer.v0+json": {
       "columns": [
        {
         "name": "index",
         "rawType": "object",
         "type": "string"
        },
        {
         "name": "0",
         "rawType": "int64",
         "type": "integer"
        }
       ],
       "ref": "435f0f3e-ffa3-4689-8afd-0ce8ae0292ca",
       "rows": [
        [
         "PassengerId",
         "0"
        ],
        [
         "Survived",
         "0"
        ],
        [
         "Pclass",
         "0"
        ],
        [
         "Name",
         "0"
        ],
        [
         "Sex",
         "0"
        ],
        [
         "Age",
         "177"
        ],
        [
         "SibSp",
         "0"
        ],
        [
         "Parch",
         "0"
        ],
        [
         "Ticket",
         "0"
        ],
        [
         "Fare",
         "0"
        ],
        [
         "Cabin",
         "687"
        ],
        [
         "Embarked",
         "2"
        ]
       ],
       "shape": {
        "columns": 1,
        "rows": 12
       }
      },
      "text/plain": [
       "PassengerId      0\n",
       "Survived         0\n",
       "Pclass           0\n",
       "Name             0\n",
       "Sex              0\n",
       "Age            177\n",
       "SibSp            0\n",
       "Parch            0\n",
       "Ticket           0\n",
       "Fare             0\n",
       "Cabin          687\n",
       "Embarked         2\n",
       "dtype: int64"
      ]
     },
     "metadata": {},
     "output_type": "display_data"
    },
    {
     "name": "stdout",
     "output_type": "stream",
     "text": [
      "sex\n"
     ]
    },
    {
     "data": {
      "text/plain": [
       "(array(['female', 'male'], dtype=object), array([314, 577], dtype=int64))"
      ]
     },
     "metadata": {},
     "output_type": "display_data"
    },
    {
     "name": "stdout",
     "output_type": "stream",
     "text": [
      "Age IsNa: 177\n",
      "Age Median: 28.0\n",
      "Age Median: 28.0\n"
     ]
    }
   ],
   "source": [
    "%run ../model/train.ipynb"
   ]
  },
  {
   "cell_type": "code",
   "execution_count": 7,
   "id": "d5e50a76",
   "metadata": {},
   "outputs": [
    {
     "name": "stderr",
     "output_type": "stream",
     "text": [
      "[NbConvertApp] Converting notebook ../model/train.ipynb to html\n",
      "[NbConvertApp] Writing 586045 bytes to ..\\model\\train.html\n"
     ]
    }
   ],
   "source": [
    "!jupyter nbconvert  ../model/train.ipynb --to html "
   ]
  },
  {
   "cell_type": "code",
   "execution_count": null,
   "id": "be9702ec",
   "metadata": {},
   "outputs": [
    {
     "data": {
      "text/plain": [
       "'h:\\\\My Drive\\\\DNTAI\\\\2025\\\\teaching\\\\sgu25k2_machine_learning_basic\\\\ws\\\\sgu25_titanic\\\\exps\\\\eda_251028'"
      ]
     },
     "execution_count": 8,
     "metadata": {},
     "output_type": "execute_result"
    }
   ],
   "source": []
  }
 ],
 "metadata": {
  "kernelspec": {
   "display_name": "adv_ds23",
   "language": "python",
   "name": "python3"
  },
  "language_info": {
   "codemirror_mode": {
    "name": "ipython",
    "version": 3
   },
   "file_extension": ".py",
   "mimetype": "text/x-python",
   "name": "python",
   "nbconvert_exporter": "python",
   "pygments_lexer": "ipython3",
   "version": "3.9.18"
  }
 },
 "nbformat": 4,
 "nbformat_minor": 5
}
