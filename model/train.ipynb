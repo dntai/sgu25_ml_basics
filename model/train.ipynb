{
 "cells": [
  {
   "cell_type": "markdown",
   "id": "5b9f33e6",
   "metadata": {},
   "source": [
    "# Import Libraries"
   ]
  },
  {
   "cell_type": "code",
   "execution_count": 20,
   "id": "728adc9a",
   "metadata": {},
   "outputs": [],
   "source": [
    "# %load_ext autoreload\n",
    "%reload_ext autoreload\n",
    "%autoreload 2\n",
    "\n",
    "import os\n",
    "import numpy as np\n",
    "import pandas as pd\n",
    "import matplotlib.pyplot as plt\n",
    "import seaborn as sns\n",
    "import string\n",
    "from IPython import display\n",
    "\n",
    "import warnings\n",
    "warnings.filterwarnings('ignore')\n",
    "\n",
    "from sklearn.preprocessing import LabelEncoder\n",
    "from sklearn.ensemble import RandomForestClassifier\n",
    "from sklearn.metrics import roc_curve, auc, accuracy_score, classification_report, confusion_matrix, roc_auc_score\n",
    "from sklearn.model_selection import StratifiedKFold"
   ]
  },
  {
   "cell_type": "code",
   "execution_count": null,
   "id": "1e05cc64",
   "metadata": {},
   "outputs": [
    {
     "name": "stdout",
     "output_type": "stream",
     "text": [
      "+ action: main_feat01\n",
      "+ seed: 42\n",
      "+ exp_dir: h:\\My Drive\\DNTAI\\2025\\teaching\\sgu25k2_machine_learning_basic\\ws\\exps\n",
      "+ exp_name: featbase_251028\n",
      "+ data_dir: h:\\My Drive\\DNTAI\\2025\\teaching\\sgu25k2_machine_learning_basic\\ws\\data\\titanic\n",
      "+ verbose: True\n",
      "+ save_dir: h:\\My Drive\\DNTAI\\2025\\teaching\\sgu25k2_machine_learning_basic\\ws\\exps\\featbase_251028\n"
     ]
    }
   ],
   "source": [
    "# params_cfg = {\n",
    "#     \"action\"  : \"main_feat01\",  \n",
    "#     \"seed\"    : 42, # Set random seed\n",
    "#     \"exp_dir\" : os.path.abspath('../../exps'),\n",
    "#     'exp_name': 'featbase_251028',\n",
    "#     \"data_dir\": os.path.abspath(\"../../data/titanic\"),\n",
    "#     \"verbose\" : True,\n",
    "# }\n",
    "params_cfg = {\n",
    "    \"action\"   : \"train_feat01\",  \n",
    "    \"feat_path\": \"../../exps/featbase_251028/data.npz\",\n",
    "    \"seed\"    : 42, # Set random seed\n",
    "    \"exp_dir\" : os.path.abspath('../../exps'),\n",
    "    'exp_name': 'trainbase_251028',\n",
    "    \"data_dir\": os.path.abspath(\"../../data/titanic\"),\n",
    "    \"verbose\" : True,\n",
    "}\n",
    "params_cfg.update(**{\n",
    "    \"save_dir\": os.path.abspath(f'{params_cfg[\"exp_dir\"]}/{params_cfg[\"exp_name\"]}')\n",
    "})\n",
    "\n",
    "for v in params_cfg:\n",
    "    print(f'+ {v}: {params_cfg[v]}')\n",
    "\n",
    "globals().update(**params_cfg)"
   ]
  },
  {
   "cell_type": "markdown",
   "id": "fd9737bf",
   "metadata": {},
   "source": [
    "# Data Load"
   ]
  },
  {
   "cell_type": "code",
   "execution_count": 149,
   "id": "6d19b98e",
   "metadata": {},
   "outputs": [
    {
     "name": "stdout",
     "output_type": "stream",
     "text": [
      "---------- information ----------\n",
      "train-col: {'Parch', 'Sex', 'Cabin', 'Age', 'Embarked', 'PassengerId', 'Ticket', 'Survived', 'Fare', 'Name', 'Pclass', 'SibSp'}\n",
      "test-col: {'Parch', 'Sex', 'Cabin', 'Age', 'Embarked', 'PassengerId', 'Ticket', 'Fare', 'Name', 'Pclass', 'SibSp'}\n",
      "Union: {'Parch', 'Cabin', 'Sex', 'SibSp', 'Age', 'Embarked', 'PassengerId', 'Ticket', 'Name', 'Pclass', 'Fare'}\n",
      "Difference: {'Survived'}\n"
     ]
    }
   ],
   "source": [
    "df_train = pd.read_csv(f'{data_dir}/train.csv')\n",
    "df_test = pd.read_csv(f'{data_dir}/test.csv')\n",
    "\n",
    "if params_cfg[\"verbose\"]:\n",
    "    print(\"-\"*10, \"information\", \"-\"*10)\n",
    "    print(f'train-col: {set(df_train.columns)}')\n",
    "    print(f'test-col: {set(df_test.columns)}')\n",
    "    print(\"Union:\", set(df_train.columns).intersection(set(df_test.columns)))\n",
    "    print(\"Difference:\", set(df_train.columns).difference(set(df_test.columns)))"
   ]
  },
  {
   "cell_type": "markdown",
   "id": "c082e3d2",
   "metadata": {},
   "source": [
    "# Preprocessing"
   ]
  },
  {
   "cell_type": "code",
   "execution_count": 152,
   "id": "0d26fb7b",
   "metadata": {},
   "outputs": [],
   "source": [
    "def preprocessing_feature_01(df_data, is_train = True, is_debug = True, **kwargs):\n",
    "    df_output = pd.DataFrame()\n",
    "\n",
    "    # Sex: gioi tinh\n",
    "    cls_sex = {'female': 0, 'male' : 1}\n",
    "    df_output[\"Sex\"] = df_data[\"Sex\"].apply(lambda x: cls_sex[x])\n",
    "    # Age: median\n",
    "    df_output[\"Age\"] = df_data[\"Age\"].fillna(df_data[\"Age\"].median())\n",
    "    # Fare, Pclass\n",
    "    for name in ['Fare', 'Pclass', 'SibSp', 'Parch']:\n",
    "        df_output[name] = df_data[name]\n",
    "    # Cabin\n",
    "    cls_cabin = {'A':1, 'B':2, 'C':3, 'D':4, 'E':5, 'F':6, 'G':7, 'T':8, 'Z':0}\n",
    "    df_output[\"Cabin\"] = df_data['Cabin'].apply(lambda x: cls_cabin['Z'] if pd.isna(x) else cls_cabin[x[0]])\n",
    "    # Embarked\n",
    "    cls_embarked = {'0': 0, 'C':1, 'Q':2, 'S':3}\n",
    "    df_output[\"Embarked\"] =  df_data['Embarked'].apply(lambda x: cls_embarked['0'] if pd.isna(x) else cls_embarked[x])\n",
    "    # Surname\n",
    "    surnames = ['Capt.', 'Col.', 'Don.', 'Dr.', 'Jonkheer.', 'Lady.', 'Major.', \n",
    "            'Master.', 'Miss.', 'Mlle.', 'Mme.', 'Mr.', 'Mrs.', 'Ms.', 'Rev.', 'Sir.', 'the']\n",
    "    cls_surnames = dict(zip(surnames, range(len(surnames))))\n",
    "    df_output[\"Surname\"] = df_data['Name'].apply(lambda x: cls_surnames[x.split(',')[1].split(' ')[1]])\n",
    "\n",
    "    if is_train:\n",
    "        df_output[\"Output\"] = df_data[\"Survived\"]\n",
    "\n",
    "    # display.display(df_output)\n",
    "\n",
    "    if is_debug:\n",
    "        print(\"head(10)\")\n",
    "        display.display(df_data.head(5))\n",
    "        print(\"tail(10)\")\n",
    "        # display.display(df_data.tail(5))\n",
    "        print(\"isna\")\n",
    "        display.display(df_data.isna().sum())\n",
    "        # Sex: gioi tinh\n",
    "        print(\"sex\")\n",
    "        display.display(np.unique(df_data['Sex'], return_counts=True))\n",
    "        # Age: lay median\n",
    "        print(f'Age IsNa: {df_data[\"Age\"].isna().sum()}')\n",
    "        print(f\"Age Median: {df_data['Age'].median()}\")\n",
    "        # Fare\n",
    "        display.display(df_data[\"Fare\"].describe())\n",
    "        # Cabin\n",
    "        print(\"-*10\", \"Cabin\")\n",
    "        display.display(np.unique(df_data['Cabin'].apply(\n",
    "            lambda x: 'Z0' if pd.isna(x) else x), return_counts=True))\n",
    "        # Embarked\n",
    "        display.display(\n",
    "            np.unique(df_data['Embarked'].apply(lambda x: '0' if pd.isna(x) else x), return_counts=True)\n",
    "        )\n",
    "        globals().update(**locals())\n",
    "    \n",
    "    return df_output, None\n",
    "    pass\n",
    "\n",
    "# df_train = pd.read_csv(f'{data_dir}/train.csv')\n",
    "# preprocessing_feature_01(df_train)"
   ]
  },
  {
   "cell_type": "markdown",
   "id": "cf5fb5d7",
   "metadata": {},
   "source": [
    "# Train"
   ]
  },
  {
   "cell_type": "code",
   "execution_count": null,
   "id": "4e420f78",
   "metadata": {},
   "outputs": [],
   "source": []
  },
  {
   "cell_type": "markdown",
   "id": "05b78c3d",
   "metadata": {},
   "source": [
    "# Main"
   ]
  },
  {
   "cell_type": "code",
   "execution_count": 155,
   "id": "6cb425f5",
   "metadata": {},
   "outputs": [
    {
     "name": "stdout",
     "output_type": "stream",
     "text": [
      "Runing ... [main_feat01]\n"
     ]
    }
   ],
   "source": [
    "def main_feat01(**kwargs):\n",
    "    # load data\n",
    "    df_train = pd.read_csv(f'{data_dir}/train.csv')\n",
    "    df_test = pd.read_csv(f'{data_dir}/test.csv')\n",
    "    # preprocessing\n",
    "    df_output_train, _ = preprocessing_feature_01(df_train, is_train = True, is_debug = False)\n",
    "    df_output_test, _ = preprocessing_feature_01(df_train, is_train = False, is_debug = False)\n",
    "    \n",
    "    # saving\n",
    "    os.makedirs(save_dir, exist_ok = True)\n",
    "    \n",
    "    np.savez(f'{save_dir}/data.npz', train=df_output_train, test=df_output_test)\n",
    "\n",
    "    kwargs.get('global_cfg', {}).update(**locals())\n",
    "    pass\n",
    "\n",
    "if params_cfg[\"action\"] == \"main_feat01\":\n",
    "    print(\"Runing ... [main_feat01]\")\n",
    "    main_feat01(global_cfg = globals())"
   ]
  },
  {
   "cell_type": "markdown",
   "id": "fd4fcce1",
   "metadata": {},
   "source": []
  },
  {
   "cell_type": "markdown",
   "id": "1560a8b2",
   "metadata": {},
   "source": [
    "# End"
   ]
  }
 ],
 "metadata": {
  "kernelspec": {
   "display_name": "adv_ds23",
   "language": "python",
   "name": "python3"
  },
  "language_info": {
   "codemirror_mode": {
    "name": "ipython",
    "version": 3
   },
   "file_extension": ".py",
   "mimetype": "text/x-python",
   "name": "python",
   "nbconvert_exporter": "python",
   "pygments_lexer": "ipython3",
   "version": "3.9.18"
  }
 },
 "nbformat": 4,
 "nbformat_minor": 5
}
